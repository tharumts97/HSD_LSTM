{
 "cells": [
  {
   "cell_type": "code",
   "execution_count": 305,
   "metadata": {},
   "outputs": [],
   "source": [
    "import os\n",
    "import re\n",
    "import string\n",
    "\n",
    "import pandas as pd\n",
    "import numpy as np\n",
    "\n",
    "from collections import  Counter\n",
    "\n",
    "import sklearn\n",
    "from sklearn.model_selection import  train_test_split\n",
    "from sklearn.metrics import classification_report\n",
    "\n",
    "import tensorflow as tf\n",
    "from tensorflow.keras import layers\n",
    "from tensorflow.keras import losses\n",
    "from tensorflow.keras import regularizers\n",
    "from tensorflow.keras import preprocessing\n",
    "from tensorflow.keras.preprocessing.text import Tokenizer\n",
    "from tensorflow.keras.preprocessing.sequence import pad_sequences\n",
    "\n",
    "import matplotlib as mpl\n",
    "import matplotlib.pyplot as plt\n",
    "import seaborn as sns\n",
    "\n",
    "import warnings\n",
    "warnings.filterwarnings('ignore')\n",
    "\n",
    "os.chdir(\"D:\\\\Level 4\\\\PROJECT\\\\PetProjects\\\\HateSpeechlstm\\\\\")"
   ]
  },
  {
   "cell_type": "code",
   "execution_count": 309,
   "metadata": {},
   "outputs": [
    {
     "data": {
      "text/html": [
       "<div>\n",
       "<style scoped>\n",
       "    .dataframe tbody tr th:only-of-type {\n",
       "        vertical-align: middle;\n",
       "    }\n",
       "\n",
       "    .dataframe tbody tr th {\n",
       "        vertical-align: top;\n",
       "    }\n",
       "\n",
       "    .dataframe thead th {\n",
       "        text-align: right;\n",
       "    }\n",
       "</style>\n",
       "<table border=\"1\" class=\"dataframe\">\n",
       "  <thead>\n",
       "    <tr style=\"text-align: right;\">\n",
       "      <th></th>\n",
       "      <th>label</th>\n",
       "      <th>tweet</th>\n",
       "    </tr>\n",
       "  </thead>\n",
       "  <tbody>\n",
       "    <tr>\n",
       "      <th>0</th>\n",
       "      <td>0</td>\n",
       "      <td>Yes, you! Baboon, baboon, baboon, baboon!</td>\n",
       "    </tr>\n",
       "    <tr>\n",
       "      <th>1</th>\n",
       "      <td>0</td>\n",
       "      <td>Did you hear that, Marge? She called me a baboon! The stupidest, ugliest, smelliest ape of them all!</td>\n",
       "    </tr>\n",
       "    <tr>\n",
       "      <th>2</th>\n",
       "      <td>0</td>\n",
       "      <td>Nuts.</td>\n",
       "    </tr>\n",
       "    <tr>\n",
       "      <th>3</th>\n",
       "      <td>0</td>\n",
       "      <td>Mmm... hors doovers.</td>\n",
       "    </tr>\n",
       "    <tr>\n",
       "      <th>4</th>\n",
       "      <td>0</td>\n",
       "      <td>You stink! You and your whole lousy operation stinks! I quit!</td>\n",
       "    </tr>\n",
       "    <tr>\n",
       "      <th>...</th>\n",
       "      <td>...</td>\n",
       "      <td>...</td>\n",
       "    </tr>\n",
       "    <tr>\n",
       "      <th>1994</th>\n",
       "      <td>1</td>\n",
       "      <td>La, la, l- Oop.</td>\n",
       "    </tr>\n",
       "    <tr>\n",
       "      <th>1995</th>\n",
       "      <td>1</td>\n",
       "      <td>Oh, well... let's sell it anyway.</td>\n",
       "    </tr>\n",
       "    <tr>\n",
       "      <th>1996</th>\n",
       "      <td>1</td>\n",
       "      <td>Yo, check this out. Black guys drive a car like this. Yeah, but white guys, see they drive a car like this.</td>\n",
       "    </tr>\n",
       "    <tr>\n",
       "      <th>1997</th>\n",
       "      <td>1</td>\n",
       "      <td>It is time to settle the score.</td>\n",
       "    </tr>\n",
       "    <tr>\n",
       "      <th>1998</th>\n",
       "      <td>0</td>\n",
       "      <td>Shut up!</td>\n",
       "    </tr>\n",
       "  </tbody>\n",
       "</table>\n",
       "<p>1999 rows × 2 columns</p>\n",
       "</div>"
      ],
      "text/plain": [
       "      label  \\\n",
       "0         0   \n",
       "1         0   \n",
       "2         0   \n",
       "3         0   \n",
       "4         0   \n",
       "...     ...   \n",
       "1994      1   \n",
       "1995      1   \n",
       "1996      1   \n",
       "1997      1   \n",
       "1998      0   \n",
       "\n",
       "                                                                                                            tweet  \n",
       "0                                                                       Yes, you! Baboon, baboon, baboon, baboon!  \n",
       "1            Did you hear that, Marge? She called me a baboon! The stupidest, ugliest, smelliest ape of them all!  \n",
       "2                                                                                                           Nuts.  \n",
       "3                                                                                            Mmm... hors doovers.  \n",
       "4                                                   You stink! You and your whole lousy operation stinks! I quit!  \n",
       "...                                                                                                           ...  \n",
       "1994                                                                                              La, la, l- Oop.  \n",
       "1995                                                                            Oh, well... let's sell it anyway.  \n",
       "1996  Yo, check this out. Black guys drive a car like this. Yeah, but white guys, see they drive a car like this.  \n",
       "1997                                                                              It is time to settle the score.  \n",
       "1998                                                                                                     Shut up!  \n",
       "\n",
       "[1999 rows x 2 columns]"
      ]
     },
     "execution_count": 309,
     "metadata": {},
     "output_type": "execute_result"
    }
   ],
   "source": [
    "#import training data set\n",
    "main_data=pd.read_csv(\"mytraining.csv\")\n",
    "data=main_data.copy()\n",
    "data.drop(columns=['id'],axis=1,inplace=True)\n",
    "data"
   ]
  },
  {
   "cell_type": "code",
   "execution_count": 310,
   "metadata": {},
   "outputs": [
    {
     "data": {
      "text/html": [
       "<div>\n",
       "<style scoped>\n",
       "    .dataframe tbody tr th:only-of-type {\n",
       "        vertical-align: middle;\n",
       "    }\n",
       "\n",
       "    .dataframe tbody tr th {\n",
       "        vertical-align: top;\n",
       "    }\n",
       "\n",
       "    .dataframe thead th {\n",
       "        text-align: right;\n",
       "    }\n",
       "</style>\n",
       "<table border=\"1\" class=\"dataframe\">\n",
       "  <thead>\n",
       "    <tr style=\"text-align: right;\">\n",
       "      <th></th>\n",
       "      <th>label</th>\n",
       "    </tr>\n",
       "  </thead>\n",
       "  <tbody>\n",
       "    <tr>\n",
       "      <th>1</th>\n",
       "      <td>1214</td>\n",
       "    </tr>\n",
       "    <tr>\n",
       "      <th>0</th>\n",
       "      <td>785</td>\n",
       "    </tr>\n",
       "  </tbody>\n",
       "</table>\n",
       "</div>"
      ],
      "text/plain": [
       "   label\n",
       "1   1214\n",
       "0    785"
      ]
     },
     "metadata": {},
     "output_type": "display_data"
    },
    {
     "name": "stdout",
     "output_type": "stream",
     "text": [
      "0s : 1s  ::   0.65 : 1\n"
     ]
    },
    {
     "data": {
      "image/png": "[encoded data removed]",
      "text/plain": [
       "<Figure size 504x504 with 1 Axes>"
      ]
     },
     "metadata": {
      "needs_background": "light"
     },
     "output_type": "display_data"
    }
   ],
   "source": [
    "#Check class distribution in dependent variable \n",
    "#0-hatespeech 1-normal\n",
    "display(data['label'].value_counts().to_frame())\n",
    "print(\"0s : 1s  ::  \",(data['label'].value_counts()[0]/data['label'].value_counts()[1]).round(2),\": 1\")\n",
    "plt.bar([0,1],data['label'].value_counts())\n",
    "plt.title(\"class proportions in the dataset\")\n",
    "plt.show()"
   ]
  },
  {
   "cell_type": "code",
   "execution_count": 401,
   "metadata": {},
   "outputs": [
    {
     "data": {
      "text/html": [
       "<div>\n",
       "<style scoped>\n",
       "    .dataframe tbody tr th:only-of-type {\n",
       "        vertical-align: middle;\n",
       "    }\n",
       "\n",
       "    .dataframe tbody tr th {\n",
       "        vertical-align: top;\n",
       "    }\n",
       "\n",
       "    .dataframe thead th {\n",
       "        text-align: right;\n",
       "    }\n",
       "</style>\n",
       "<table border=\"1\" class=\"dataframe\">\n",
       "  <thead>\n",
       "    <tr style=\"text-align: right;\">\n",
       "      <th></th>\n",
       "      <th>label</th>\n",
       "    </tr>\n",
       "  </thead>\n",
       "  <tbody>\n",
       "    <tr>\n",
       "      <th>1</th>\n",
       "      <td>21852</td>\n",
       "    </tr>\n",
       "    <tr>\n",
       "      <th>0</th>\n",
       "      <td>7065</td>\n",
       "    </tr>\n",
       "  </tbody>\n",
       "</table>\n",
       "</div>"
      ],
      "text/plain": [
       "   label\n",
       "1  21852\n",
       "0   7065"
      ]
     },
     "metadata": {},
     "output_type": "display_data"
    },
    {
     "name": "stdout",
     "output_type": "stream",
     "text": [
      "0s : 1s  ::   0.32 : 1\n"
     ]
    },
    {
     "data": {
      "image/png": "[encoded data removed]",
      "text/plain": [
       "<Figure size 504x504 with 1 Axes>"
      ]
     },
     "metadata": {
      "needs_background": "light"
     },
     "output_type": "display_data"
    }
   ],
   "source": [
    "\n",
    "#Balancing the dataset using Oversampling - duplicating the minority dataset\n",
    "data1=data[data['label']==1]\n",
    "data0=data[data['label']==0]\n",
    "data=pd.concat([data,data1], axis=0)\n",
    "data\n",
    "\n",
    "#Check class distribution in dependent variable again\n",
    "display(data['label'].value_counts().to_frame())\n",
    "print(\"0s : 1s  ::  \",(data['label'].value_counts()[0]/data['label'].value_counts()[1]).round(2),\": 1\")\n",
    "plt.bar([0,1],data['label'].value_counts())\n",
    "plt.title(\"class proportions in the dataset\")\n",
    "plt.show()"
   ]
  },
  {
   "cell_type": "code",
   "execution_count": 402,
   "metadata": {},
   "outputs": [],
   "source": [
    "#remove emojis in text\n",
    "def remove_emoji(text):\n",
    "    emoji_pattern = re.compile(\"[\"\n",
    "                           u\"\\U0001F600-\\U0001F64F\"  # emoticons\n",
    "                           u\"\\U0001F300-\\U0001F5FF\"  # symbols & pictographs\n",
    "                           u\"\\U0001F680-\\U0001F6FF\"  # transport & map symbols\n",
    "                           u\"\\U0001F1E0-\\U0001F1FF\"  # flags (iOS)\n",
    "                           u\"\\U00002702-\\U000027B0\"\n",
    "                           u\"\\U000024C2-\\U0001F251\"\n",
    "                           \"]+\", flags=re.UNICODE)\n",
    "    \n",
    "    return emoji_pattern.sub(r'', text)\n",
    "\n",
    "\n",
    "def clean_text(text ): \n",
    "    #remove punctuations\n",
    "    delete_dict = {sp_character: '' for sp_character in string.punctuation} \n",
    "    delete_dict[' '] = ' ' \n",
    "    table = str.maketrans(delete_dict)\n",
    "    text1 = text.translate(table)\n",
    "    textArr= text1.split()\n",
    "    #remove stop words. words with more than 3 letters is taken into account\n",
    "    text2 = ' '.join([w for w in textArr if ( not w.isdigit() and  ( not w.isdigit() and len(w)>3))]) \n",
    "    \n",
    "    return text2.lower()"
   ]
  },
  {
   "cell_type": "code",
   "execution_count": 403,
   "metadata": {},
   "outputs": [],
   "source": [
    "\n",
    "#preprocess train dataset - preprocessing the tweet column\n",
    "data['tweet'] = data['tweet'].apply(remove_emoji)\n",
    "data['tweet'] = data['tweet'].apply(clean_text)\n",
    "data['Num_words_text'] = data['tweet'].apply(lambda x:len(str(x).split())) \n",
    "\n",
    "#split data into train and test columns\n",
    "train_data,test_data= train_test_split(data, test_size=0.2)\n",
    "train_data.reset_index(drop=True,inplace=True)\n",
    "test_data.reset_index(drop=True,inplace=True)"
   ]
  },
  {
   "cell_type": "code",
   "execution_count": 404,
   "metadata": {},
   "outputs": [
    {
     "name": "stdout",
     "output_type": "stream",
     "text": [
      "===========Train Data =========\n",
      "1    17466\n",
      "0     5667\n",
      "Name: label, dtype: int64\n",
      "23133\n",
      "==============================\n",
      "===========Test Data =========\n",
      "1    4386\n",
      "0    1398\n",
      "Name: label, dtype: int64\n",
      "5784\n",
      "==============================\n"
     ]
    }
   ],
   "source": [
    "\n",
    "#classes proportion in dependent variable in train and test dataset\n",
    "#calculate the class distribution of train data\n",
    "print('===========Train Data =========')\n",
    "print(train_data['label'].value_counts())\n",
    "print(len(train_data))\n",
    "print('==============================')\n",
    "\n",
    "#calculate the class distribution of test data\n",
    "print('===========Test Data =========')\n",
    "print(test_data['label'].value_counts())\n",
    "print(len(test_data))\n",
    "print('==============================')"
   ]
  },
  {
   "cell_type": "code",
   "execution_count": 405,
   "metadata": {},
   "outputs": [
    {
     "name": "stdout",
     "output_type": "stream",
     "text": [
      "Train data len:18506\n",
      "Class distributionCounter({1: 13972, 0: 4534})\n",
      "Valid data len:4627\n",
      "Class distributionCounter({1: 3494, 0: 1133})\n"
     ]
    }
   ],
   "source": [
    "#train data is again divided -train and validation dataset splitting\n",
    "X_train, X_valid, y_train, y_valid = train_test_split(train_data['tweet'].tolist(),\\\n",
    "                                                      train_data['label'].tolist(),\\\n",
    "                                                      test_size=0.2,\\\n",
    "                                                      stratify = train_data['label'].tolist(),\\\n",
    "                                                      random_state=0)\n",
    "\n",
    "\n",
    "#check the classs distributions\n",
    "print('Train data len:'+str(len(X_train)))\n",
    "print('Class distribution'+str(Counter(y_train)))\n",
    "print('Valid data len:'+str(len(X_valid)))\n",
    "print('Class distribution'+ str(Counter(y_valid)))"
   ]
  },
  {
   "cell_type": "code",
   "execution_count": 406,
   "metadata": {},
   "outputs": [],
   "source": [
    "#initialize the number of words - the maximum number of words you can have\n",
    "num_words = 50000\n",
    "\n",
    "#creating a tokenizer\n",
    "tokenizer = Tokenizer(num_words=num_words,oov_token=\"unk\")\n",
    "tokenizer.fit_on_texts(X_train)"
   ]
  },
  {
   "cell_type": "code",
   "execution_count": 407,
   "metadata": {},
   "outputs": [
    {
     "name": "stdout",
     "output_type": "stream",
     "text": [
      "Train data len:18506\n",
      "Class distributionCounter({1: 13972, 0: 4534})\n",
      "Validation data len:4627\n",
      "Class distributionCounter({1: 3494, 0: 1133})\n",
      "Test data len:5784\n",
      "Class distributionCounter({1: 4386, 0: 1398})\n"
     ]
    }
   ],
   "source": [
    "#convert sentences to sequences of numbers\n",
    "x_train = np.array( tokenizer.texts_to_sequences(X_train) )\n",
    "x_valid = np.array( tokenizer.texts_to_sequences(X_valid) )\n",
    "x_test  = np.array( tokenizer.texts_to_sequences(test_data['tweet'].tolist()) )\n",
    "\n",
    "#padding \n",
    "maxlen=50\n",
    "x_train = pad_sequences(x_train, padding='post', maxlen=maxlen)\n",
    "x_valid = pad_sequences(x_valid, padding='post', maxlen=maxlen)\n",
    "x_test = pad_sequences(x_test, padding='post', maxlen=maxlen)\n",
    "\n",
    "\n",
    "train_labels = np.asarray(y_train)\n",
    "valid_labels = np.asarray(y_valid)\n",
    "test_labels = np.asarray(test_data['label'].tolist())\n",
    "\n",
    "\n",
    "print('Train data len:'+str(len(x_train)))\n",
    "print('Class distribution'+str(Counter(train_labels)))\n",
    "\n",
    "print('Validation data len:'+str(len(x_valid)))\n",
    "print('Class distribution'+str(Counter(valid_labels)))\n",
    "\n",
    "print('Test data len:'+str(len(x_test)))\n",
    "print('Class distribution'+str(Counter(test_labels)))\n",
    "\n",
    "#tensorflow dataset preparation\n",
    "train_ds = tf.data.Dataset.from_tensor_slices((x_train,train_labels))\n",
    "valid_ds = tf.data.Dataset.from_tensor_slices((x_valid,valid_labels))\n",
    "test_ds = tf.data.Dataset.from_tensor_slices((x_test,test_labels))"
   ]
  },
  {
   "cell_type": "code",
   "execution_count": 408,
   "metadata": {},
   "outputs": [
    {
     "name": "stdout",
     "output_type": "stream",
     "text": [
      "======Train dataset ====\n",
      "tf.Tensor(\n",
      "[368  71   0   0   0   0   0   0   0   0   0   0   0   0   0   0   0   0\n",
      "   0   0   0   0   0   0   0   0   0   0   0   0   0   0   0   0   0   0\n",
      "   0   0   0   0   0   0   0   0   0   0   0   0   0   0], shape=(50,), dtype=int32) tf.Tensor(0, shape=(), dtype=int32)\n",
      "======Validation dataset ====\n",
      "tf.Tensor(\n",
      "[121  46   0   0   0   0   0   0   0   0   0   0   0   0   0   0   0   0\n",
      "   0   0   0   0   0   0   0   0   0   0   0   0   0   0   0   0   0   0\n",
      "   0   0   0   0   0   0   0   0   0   0   0   0   0   0], shape=(50,), dtype=int32) tf.Tensor(0, shape=(), dtype=int32)\n",
      "======Test dataset ====\n",
      "tf.Tensor(\n",
      "[   7 1227 3068 3069 2282  348    0    0    0    0    0    0    0    0\n",
      "    0    0    0    0    0    0    0    0    0    0    0    0    0    0\n",
      "    0    0    0    0    0    0    0    0    0    0    0    0    0    0\n",
      "    0    0    0    0    0    0    0    0], shape=(50,), dtype=int32) tf.Tensor(0, shape=(), dtype=int32)\n"
     ]
    }
   ],
   "source": [
    "#visualization of tensorflow dataset\n",
    "count =0\n",
    "print('======Train dataset ====')\n",
    "for value,label in train_ds:\n",
    "    count += 1\n",
    "    print(value,label)\n",
    "    if count==1:\n",
    "        break\n",
    "count =0\n",
    "print('======Validation dataset ====')\n",
    "for value,label in valid_ds:\n",
    "    count += 1\n",
    "    print(value,label)\n",
    "    if count==1:\n",
    "        break\n",
    "count =0\n",
    "print('======Test dataset ====')\n",
    "for value,label in test_ds:\n",
    "    count += 1\n",
    "    print(value,label)\n",
    "    if count==1:\n",
    "        break"
   ]
  },
  {
   "cell_type": "code",
   "execution_count": 409,
   "metadata": {},
   "outputs": [
    {
     "name": "stdout",
     "output_type": "stream",
     "text": [
      "Model: \"sequential_15\"\n",
      "_________________________________________________________________\n",
      "Layer (type)                 Output Shape              Param #   \n",
      "=================================================================\n",
      "embedding_15 (Embedding)     (None, 50, 16)            800016    \n",
      "_________________________________________________________________\n",
      "dropout_45 (Dropout)         (None, 50, 16)            0         \n",
      "_________________________________________________________________\n",
      "lstm_15 (LSTM)               (None, 50, 16)            2112      \n",
      "_________________________________________________________________\n",
      "flatten_15 (Flatten)         (None, 800)               0         \n",
      "_________________________________________________________________\n",
      "dense_45 (Dense)             (None, 512)               410112    \n",
      "_________________________________________________________________\n",
      "dropout_46 (Dropout)         (None, 512)               0         \n",
      "_________________________________________________________________\n",
      "dense_46 (Dense)             (None, 8)                 4104      \n",
      "_________________________________________________________________\n",
      "dropout_47 (Dropout)         (None, 8)                 0         \n",
      "_________________________________________________________________\n",
      "dense_47 (Dense)             (None, 1)                 9         \n",
      "=================================================================\n",
      "Total params: 1,216,353\n",
      "Trainable params: 1,216,353\n",
      "Non-trainable params: 0\n",
      "_________________________________________________________________\n"
     ]
    }
   ],
   "source": [
    "#model preparation\n",
    "#maximum vocabulary is set to 50000\n",
    "max_features =50000\n",
    "#embedding dimensions - every word is converted into 16 bit vectors\n",
    "embedding_dim =16\n",
    "sequence_length = maxlen\n",
    "\n",
    "model = tf.keras.Sequential()\n",
    "#embedding layer\n",
    "model.add(tf.keras.layers.Embedding(max_features +1, embedding_dim, input_length=sequence_length,\\\n",
    "                                    embeddings_regularizer = regularizers.l2(0.005))) \n",
    "#dropout later to handle overfitting by removing certain bits from 16 bit vector\n",
    "model.add(tf.keras.layers.Dropout(0.4))\n",
    "\n",
    "#LSTM LAYER\n",
    "model.add(tf.keras.layers.LSTM(embedding_dim,dropout=0.2, recurrent_dropout=0.2,return_sequences=True,\\\n",
    "                                                             kernel_regularizer=regularizers.l2(0.005),\\\n",
    "                                                             bias_regularizer=regularizers.l2(0.005)))\n",
    "\n",
    "model.add(tf.keras.layers.Flatten())\n",
    "\n",
    "#hidden layers\n",
    "#512 nodes\n",
    "model.add(tf.keras.layers.Dense(512, activation='relu',\\\n",
    "                                kernel_regularizer=regularizers.l2(0.001),\\\n",
    "                                bias_regularizer=regularizers.l2(0.001),))\n",
    "model.add(tf.keras.layers.Dropout(0.4))\n",
    "\n",
    "#8 nodes\n",
    "model.add(tf.keras.layers.Dense(8, activation='relu',\\\n",
    "                                kernel_regularizer=regularizers.l2(0.001),\\\n",
    "                                bias_regularizer=regularizers.l2(0.001),))\n",
    "model.add(tf.keras.layers.Dropout(0.4))\n",
    "\n",
    "model.add(tf.keras.layers.Dense(1,activation='sigmoid'))\n",
    "                               \n",
    "\n",
    "\n",
    "#compliling\n",
    "model.summary()\n",
    "#BinaryCrossentropy - 1 or 0 - normal or hate\n",
    "#optimizer -adam\n",
    "#metrics - BinaryAccuracy - predictions below 0.5 to 0 and above 0.5 to 1\n",
    "model.compile(loss=tf.keras.losses.BinaryCrossentropy(),optimizer=tf.keras.optimizers.Adam(1e-3),metrics=[tf.keras.metrics.BinaryAccuracy()])"
   ]
  },
  {
   "cell_type": "code",
   "execution_count": 410,
   "metadata": {},
   "outputs": [
    {
     "name": "stdout",
     "output_type": "stream",
     "text": [
      "Epoch 1/10\n",
      "19/19 [==============================] - 3s 149ms/step - loss: 3.2962 - binary_accuracy: 0.7466 - val_loss: 1.9233 - val_binary_accuracy: 0.7551\n",
      "Epoch 2/10\n",
      "19/19 [==============================] - 3s 135ms/step - loss: 1.4077 - binary_accuracy: 0.7550 - val_loss: 0.9809 - val_binary_accuracy: 0.7551\n",
      "Epoch 3/10\n",
      "19/19 [==============================] - 3s 137ms/step - loss: 0.8531 - binary_accuracy: 0.7550 - val_loss: 0.7181 - val_binary_accuracy: 0.7551\n",
      "Epoch 4/10\n",
      "19/19 [==============================] - 3s 134ms/step - loss: 0.6432 - binary_accuracy: 0.7613 - val_loss: 0.5157 - val_binary_accuracy: 0.8260\n",
      "Epoch 5/10\n",
      "19/19 [==============================] - 3s 136ms/step - loss: 0.4874 - binary_accuracy: 0.8764 - val_loss: 0.3980 - val_binary_accuracy: 0.9646\n",
      "Epoch 6/10\n",
      "19/19 [==============================] - 3s 135ms/step - loss: 0.3674 - binary_accuracy: 0.9449 - val_loss: 0.2668 - val_binary_accuracy: 0.9892\n",
      "Epoch 7/10\n",
      "19/19 [==============================] - 3s 137ms/step - loss: 0.2818 - binary_accuracy: 0.9846 - val_loss: 0.2144 - val_binary_accuracy: 0.9948\n",
      "Epoch 8/10\n",
      "19/19 [==============================] - 3s 137ms/step - loss: 0.2464 - binary_accuracy: 0.9882 - val_loss: 0.1841 - val_binary_accuracy: 0.9968\n",
      "Epoch 9/10\n",
      "19/19 [==============================] - 3s 134ms/step - loss: 0.2223 - binary_accuracy: 0.9876 - val_loss: 0.1618 - val_binary_accuracy: 0.9959\n",
      "Epoch 10/10\n",
      "19/19 [==============================] - 3s 138ms/step - loss: 0.2016 - binary_accuracy: 0.9894 - val_loss: 0.1433 - val_binary_accuracy: 0.9974\n"
     ]
    }
   ],
   "source": [
    "epochs = 10\n",
    "# Fit the model using the train and test datasets.\n",
    "history = model.fit(train_ds.shuffle(5000).batch(1024),\n",
    "                    epochs= epochs ,\n",
    "                    validation_data=valid_ds.batch(1024),\n",
    "                    verbose=1)"
   ]
  },
  {
   "cell_type": "code",
   "execution_count": 389,
   "metadata": {},
   "outputs": [
    {
     "name": "stdout",
     "output_type": "stream",
     "text": [
      "[[5.6546596e-06]\n",
      " [3.8618673e-05]\n",
      " [4.1484833e-04]\n",
      " [9.9999505e-01]\n",
      " [9.9999267e-01]\n",
      " [9.9999160e-01]\n",
      " [2.2998452e-04]\n",
      " [4.2376128e-06]\n",
      " [9.9998242e-01]\n",
      " [9.9999642e-01]]\n"
     ]
    }
   ],
   "source": [
    "#make predictions on validation dataset\n",
    "valid_predict= model.predict(x_valid)\n",
    "print(valid_predict[:10])"
   ]
  },
  {
   "cell_type": "code",
   "execution_count": 390,
   "metadata": {},
   "outputs": [],
   "source": [
    "#model's metrics on test dataset\n",
    "x_test  = np.array( tokenizer.texts_to_sequences(test_data['tweet'].tolist()) )\n",
    "x_test = pad_sequences(x_test, padding='post', maxlen=maxlen)\n",
    "\n",
    "\n",
    "#Generate predictions for all samples\n",
    "predictions = model.predict(x_test)"
   ]
  },
  {
   "cell_type": "code",
   "execution_count": 391,
   "metadata": {},
   "outputs": [
    {
     "data": {
      "image/png": "[encoded data removed]",
      "text/plain": [
       "<Figure size 1080x360 with 2 Axes>"
      ]
     },
     "metadata": {
      "needs_background": "light"
     },
     "output_type": "display_data"
    }
   ],
   "source": [
    "\n",
    "#plot predictions\n",
    "f, (ax1, ax2) = plt.subplots(1, 2,figsize=(15,5))\n",
    "ax1.scatter(predictions,range(0,len(predictions)),alpha=0.2)\n",
    "ax2=sns.distplot(predictions)\n",
    "#values are saturated around 0&1 classifying them as hate or normal"
   ]
  },
  {
   "cell_type": "code",
   "execution_count": 392,
   "metadata": {},
   "outputs": [
    {
     "data": {
      "text/plain": [
       "<matplotlib.legend.Legend at 0x25c44499070>"
      ]
     },
     "execution_count": 392,
     "metadata": {},
     "output_type": "execute_result"
    },
    {
     "data": {
      "image/png": "[encoded data removed]",
      "text/plain": [
       "<Figure size 504x504 with 1 Axes>"
      ]
     },
     "metadata": {
      "needs_background": "light"
     },
     "output_type": "display_data"
    }
   ],
   "source": [
    "#decide the cutoff for classifying the predicted probabilities as 1 or 0\n",
    "def plot_roc(name, labels, predictions, **kwargs):\n",
    "    fp, tp, thresholds = sklearn.metrics.roc_curve(labels, predictions)\n",
    "    plt.plot(fp, tp, label=name, linewidth=2, **kwargs)\n",
    "    plt.xlabel('False positives Rate')\n",
    "    plt.ylabel('True positives Rate')\n",
    "    plt.xlim([-0.03, 1.0])\n",
    "    plt.ylim([0.0, 1.03])\n",
    "    plt.grid(True)\n",
    "    thresholdsLength = len(thresholds)\n",
    "    thresholds_every = 1000\n",
    "    colorMap = plt.get_cmap('jet', thresholdsLength)\n",
    "    for i in range(0, thresholdsLength, thresholds_every):\n",
    "        threshold_value_with_max_four_decimals = str(thresholds[i])[:5]\n",
    "        plt.text(fp[i] - 0.03, tp[i] + 0.001, threshold_value_with_max_four_decimals, fontdict={'size': 15}, color=colorMap(i/thresholdsLength));\n",
    "\n",
    "    ax = plt.gca()\n",
    "    ax.set_aspect('equal')\n",
    "\n",
    "mpl.rcParams['figure.figsize'] = (7,7)\n",
    "\n",
    "colors = plt.rcParams['axes.prop_cycle'].by_key()['color']\n",
    "plot_roc(\"Valid Baseline\", valid_labels, valid_predict, color=colors[0], linestyle='--')\n",
    "plt.legend(loc='lower right')"
   ]
  },
  {
   "cell_type": "code",
   "execution_count": 393,
   "metadata": {
    "scrolled": true
   },
   "outputs": [
    {
     "name": "stdout",
     "output_type": "stream",
     "text": [
      "              precision    recall  f1-score   support\n",
      "\n",
      "           0       0.99      0.99      0.99      1417\n",
      "           1       1.00      0.99      1.00      2182\n",
      "\n",
      "    accuracy                           0.99      3599\n",
      "   macro avg       0.99      0.99      0.99      3599\n",
      "weighted avg       0.99      0.99      0.99      3599\n",
      "\n"
     ]
    }
   ],
   "source": [
    "cutoff=0.86\n",
    "test_data['pred_sentiment']= predictions\n",
    "test_data['pred_sentiment'] = np.where((test_data.pred_sentiment >= cutoff),1,test_data.pred_sentiment)\n",
    "test_data['pred_sentiment'] = np.where((test_data.pred_sentiment < cutoff),0,test_data.pred_sentiment)\n",
    "\n",
    "labels = [0, 1]\n",
    "print(classification_report(test_data['label'].tolist(),test_data['pred_sentiment'].tolist(),labels=labels))\n"
   ]
  },
  {
   "cell_type": "code",
   "execution_count": 394,
   "metadata": {},
   "outputs": [],
   "source": [
    "#Testing Model on the test dataset"
   ]
  },
  {
   "cell_type": "code",
   "execution_count": 395,
   "metadata": {
    "scrolled": true
   },
   "outputs": [
    {
     "data": {
      "text/plain": [
       "array([[   0,    0,    0, ...,    0,    0,    0],\n",
       "       [   7,   23,   68, ...,    0,    0,    0],\n",
       "       [ 100,    0,    0, ...,    0,    0,    0],\n",
       "       ...,\n",
       "       [ 241,    4, 1240, ...,    0,    0,    0],\n",
       "       [ 437,  437,    0, ...,    0,    0,    0],\n",
       "       [  48,  520,   48, ...,    0,    0,    0]])"
      ]
     },
     "metadata": {},
     "output_type": "display_data"
    },
    {
     "data": {
      "text/plain": [
       "array([[  81, 1268,   20, ...,    0,    0,    0],\n",
       "       [ 445,  252,   71, ...,    0,    0,    0],\n",
       "       [ 132,  606,  156, ...,    0,    0,    0],\n",
       "       ...,\n",
       "       [  28, 1247,    0, ...,    0,    0,    0],\n",
       "       [  21,    1,    0, ...,    0,    0,    0],\n",
       "       [  11,   11,  125, ...,    0,    0,    0]])"
      ]
     },
     "metadata": {},
     "output_type": "display_data"
    }
   ],
   "source": [
    "final_test=pd.read_csv(\"mytesting.csv\")\n",
    "\n",
    "ftest=final_test.copy()\n",
    "ftest.drop(columns=['id'],axis=1,inplace=True)\n",
    "\n",
    "ftest['tweet'] = ftest['tweet'].apply(remove_emoji)\n",
    "ftest['tweet'] = ftest['tweet'].apply(clean_text)\n",
    "\n",
    "f_test  = np.array( tokenizer.texts_to_sequences(ftest['tweet'].tolist()) )\n",
    "f_test = pad_sequences(f_test, padding='post', maxlen=maxlen)\n",
    "\n",
    "display((x_test))\n",
    "display((f_test))"
   ]
  },
  {
   "cell_type": "code",
   "execution_count": 396,
   "metadata": {},
   "outputs": [],
   "source": [
    "\n",
    "#predict on actual test data\n",
    "predictions = model.predict(f_test)"
   ]
  },
  {
   "cell_type": "code",
   "execution_count": 397,
   "metadata": {},
   "outputs": [
    {
     "data": {
      "image/png": "[encoded data removed]",
      "text/plain": [
       "<Figure size 1080x360 with 2 Axes>"
      ]
     },
     "metadata": {
      "needs_background": "light"
     },
     "output_type": "display_data"
    }
   ],
   "source": [
    "\n",
    "#plot predictions\n",
    "f, (ax1, ax2) = plt.subplots(1, 2,figsize=(15,5))\n",
    "ax1.scatter(predictions,ftest.index,alpha=0.5)\n",
    "ax2=sns.distplot(predictions)"
   ]
  },
  {
   "cell_type": "code",
   "execution_count": 400,
   "metadata": {},
   "outputs": [
    {
     "data": {
      "text/html": [
       "<div>\n",
       "<style scoped>\n",
       "    .dataframe tbody tr th:only-of-type {\n",
       "        vertical-align: middle;\n",
       "    }\n",
       "\n",
       "    .dataframe tbody tr th {\n",
       "        vertical-align: top;\n",
       "    }\n",
       "\n",
       "    .dataframe thead th {\n",
       "        text-align: right;\n",
       "    }\n",
       "</style>\n",
       "<table border=\"1\" class=\"dataframe\">\n",
       "  <thead>\n",
       "    <tr style=\"text-align: right;\">\n",
       "      <th></th>\n",
       "      <th>tweet</th>\n",
       "      <th>pred_sentiment</th>\n",
       "    </tr>\n",
       "  </thead>\n",
       "  <tbody>\n",
       "    <tr>\n",
       "      <th>1</th>\n",
       "      <td>theyve tried stop them seniors early morning they everything done before everyone else even awake</td>\n",
       "      <td>0.0</td>\n",
       "    </tr>\n",
       "    <tr>\n",
       "      <th>7</th>\n",
       "      <td>theyre coming here before they hills find fight them boys avenger avenger</td>\n",
       "      <td>0.0</td>\n",
       "    </tr>\n",
       "    <tr>\n",
       "      <th>11</th>\n",
       "      <td>sneak into town shut down their food supply here</td>\n",
       "      <td>0.0</td>\n",
       "    </tr>\n",
       "    <tr>\n",
       "      <th>29</th>\n",
       "      <td>heck this goin wellwere gonna take whole country back wipe everyone below sixty five</td>\n",
       "      <td>0.0</td>\n",
       "    </tr>\n",
       "    <tr>\n",
       "      <th>46</th>\n",
       "      <td>stop this partly your fault</td>\n",
       "      <td>0.0</td>\n",
       "    </tr>\n",
       "    <tr>\n",
       "      <th>...</th>\n",
       "      <td>...</td>\n",
       "      <td>...</td>\n",
       "    </tr>\n",
       "    <tr>\n",
       "      <th>5078</th>\n",
       "      <td>having investigated closely pope determined that blood coming from virgin marys rather from vagina pope said quote chick bleeding vagina miracle chicks bleed their vaginas time back</td>\n",
       "      <td>0.0</td>\n",
       "    </tr>\n",
       "    <tr>\n",
       "      <th>5082</th>\n",
       "      <td>heard what said higher power didnt cure powerless again</td>\n",
       "      <td>0.0</td>\n",
       "    </tr>\n",
       "    <tr>\n",
       "      <th>5091</th>\n",
       "      <td>yeah statue wasnt miracle that means that means didnt have drink five days your</td>\n",
       "      <td>0.0</td>\n",
       "    </tr>\n",
       "    <tr>\n",
       "      <th>5097</th>\n",
       "      <td>nothing easy learning drink little responsibly thatsa disciprine disciprine come from within</td>\n",
       "      <td>0.0</td>\n",
       "    </tr>\n",
       "    <tr>\n",
       "      <th>5098</th>\n",
       "      <td>manage raise such smart</td>\n",
       "      <td>0.0</td>\n",
       "    </tr>\n",
       "  </tbody>\n",
       "</table>\n",
       "<p>988 rows × 2 columns</p>\n",
       "</div>"
      ],
      "text/plain": [
       "                                                                                                                                                                                      tweet  \\\n",
       "1                                                                                         theyve tried stop them seniors early morning they everything done before everyone else even awake   \n",
       "7                                                                                                                 theyre coming here before they hills find fight them boys avenger avenger   \n",
       "11                                                                                                                                         sneak into town shut down their food supply here   \n",
       "29                                                                                                     heck this goin wellwere gonna take whole country back wipe everyone below sixty five   \n",
       "46                                                                                                                                                              stop this partly your fault   \n",
       "...                                                                                                                                                                                     ...   \n",
       "5078  having investigated closely pope determined that blood coming from virgin marys rather from vagina pope said quote chick bleeding vagina miracle chicks bleed their vaginas time back   \n",
       "5082                                                                                                                                heard what said higher power didnt cure powerless again   \n",
       "5091                                                                                                        yeah statue wasnt miracle that means that means didnt have drink five days your   \n",
       "5097                                                                                           nothing easy learning drink little responsibly thatsa disciprine disciprine come from within   \n",
       "5098                                                                                                                                                                manage raise such smart   \n",
       "\n",
       "      pred_sentiment  \n",
       "1                0.0  \n",
       "7                0.0  \n",
       "11               0.0  \n",
       "29               0.0  \n",
       "46               0.0  \n",
       "...              ...  \n",
       "5078             0.0  \n",
       "5082             0.0  \n",
       "5091             0.0  \n",
       "5097             0.0  \n",
       "5098             0.0  \n",
       "\n",
       "[988 rows x 2 columns]"
      ]
     },
     "execution_count": 400,
     "metadata": {},
     "output_type": "execute_result"
    }
   ],
   "source": [
    "\n",
    "#mapping prediction to 1 or 0\n",
    "ftest['pred_sentiment']= predictions\n",
    "ftest['pred_sentiment'] = np.where((ftest.pred_sentiment >= cutoff),1,ftest.pred_sentiment)\n",
    "ftest['pred_sentiment'] = np.where((ftest.pred_sentiment < cutoff),0,ftest.pred_sentiment)\n",
    "\n",
    "#processed tweets categorized as hate speech\n",
    "pd.set_option('display.max_colwidth', None)\n",
    "ftest[ftest['pred_sentiment']==0]"
   ]
  },
  {
   "cell_type": "code",
   "execution_count": 399,
   "metadata": {},
   "outputs": [
    {
     "data": {
      "text/html": [
       "<div>\n",
       "<style scoped>\n",
       "    .dataframe tbody tr th:only-of-type {\n",
       "        vertical-align: middle;\n",
       "    }\n",
       "\n",
       "    .dataframe tbody tr th {\n",
       "        vertical-align: top;\n",
       "    }\n",
       "\n",
       "    .dataframe thead th {\n",
       "        text-align: right;\n",
       "    }\n",
       "</style>\n",
       "<table border=\"1\" class=\"dataframe\">\n",
       "  <thead>\n",
       "    <tr style=\"text-align: right;\">\n",
       "      <th></th>\n",
       "      <th>id</th>\n",
       "      <th>tweet</th>\n",
       "    </tr>\n",
       "  </thead>\n",
       "  <tbody>\n",
       "    <tr>\n",
       "      <th>1</th>\n",
       "      <td>1980</td>\n",
       "      <td>They've tried to stop them, son, but... the seniors get up so early in the morning they... get everything done before everyone else is even awake!\\n</td>\n",
       "    </tr>\n",
       "    <tr>\n",
       "      <th>7</th>\n",
       "      <td>1986</td>\n",
       "      <td>They're coming!! Get out of here before they see you! Run to the hills and find a way to fight them! Go!!  Boys, avenger me! AVENGER ME!!\\n</td>\n",
       "    </tr>\n",
       "    <tr>\n",
       "      <th>11</th>\n",
       "      <td>1990</td>\n",
       "      <td>No. But we can sneak into town and shut down their food supply.  Here.\\n</td>\n",
       "    </tr>\n",
       "    <tr>\n",
       "      <th>29</th>\n",
       "      <td>2008</td>\n",
       "      <td>Huh??  Heck no! This is goin' too well.We're gonna take the whole country back. Wipe out everyone below the age of sixty five!\\n</td>\n",
       "    </tr>\n",
       "    <tr>\n",
       "      <th>46</th>\n",
       "      <td>2025</td>\n",
       "      <td>Oh, stop it, Dad! This is partly your fault!\\n</td>\n",
       "    </tr>\n",
       "    <tr>\n",
       "      <th>...</th>\n",
       "      <td>...</td>\n",
       "      <td>...</td>\n",
       "    </tr>\n",
       "    <tr>\n",
       "      <th>5078</th>\n",
       "      <td>7057</td>\n",
       "      <td>Having investigated closely, the pope determined that the blood was not coming from the Virgin Mary's ass, but rather, from her vagina. And the pope said quote, \"A chick bleeding out her vagina is no miracle. Chicks bleed out their vagina's all the time.\"  Back to you, Tom.\\n</td>\n",
       "    </tr>\n",
       "    <tr>\n",
       "      <th>5082</th>\n",
       "      <td>7061</td>\n",
       "      <td>You heard what he said!  The higher power didn't cure me! I'm powerless again!\\n</td>\n",
       "    </tr>\n",
       "    <tr>\n",
       "      <th>5091</th>\n",
       "      <td>7070</td>\n",
       "      <td>Yeah. The statue wasn't a miracle, Dad. So that means you did it. That means you didn't have a drink for five days all on your own.\\n</td>\n",
       "    </tr>\n",
       "    <tr>\n",
       "      <th>5097</th>\n",
       "      <td>7076</td>\n",
       "      <td>Naw. All or nothing is easy. But learning to drink a little bit, responsibly, that'sa disciprine. Disciprine... come from within. \\n</td>\n",
       "    </tr>\n",
       "    <tr>\n",
       "      <th>5098</th>\n",
       "      <td>7077</td>\n",
       "      <td>How did I manage to raise such a smart kid?\\n</td>\n",
       "    </tr>\n",
       "  </tbody>\n",
       "</table>\n",
       "<p>988 rows × 2 columns</p>\n",
       "</div>"
      ],
      "text/plain": [
       "        id  \\\n",
       "1     1980   \n",
       "7     1986   \n",
       "11    1990   \n",
       "29    2008   \n",
       "46    2025   \n",
       "...    ...   \n",
       "5078  7057   \n",
       "5082  7061   \n",
       "5091  7070   \n",
       "5097  7076   \n",
       "5098  7077   \n",
       "\n",
       "                                                                                                                                                                                                                                                                                     tweet  \n",
       "1                                                                                                                                     They've tried to stop them, son, but... the seniors get up so early in the morning they... get everything done before everyone else is even awake!\\n  \n",
       "7                                                                                                                                              They're coming!! Get out of here before they see you! Run to the hills and find a way to fight them! Go!!  Boys, avenger me! AVENGER ME!!\\n  \n",
       "11                                                                                                                                                                                                                No. But we can sneak into town and shut down their food supply.  Here.\\n  \n",
       "29                                                                                                                                                        Huh??  Heck no! This is goin' too well.We're gonna take the whole country back. Wipe out everyone below the age of sixty five!\\n  \n",
       "46                                                                                                                                                                                                                                          Oh, stop it, Dad! This is partly your fault!\\n  \n",
       "...                                                                                                                                                                                                                                                                                    ...  \n",
       "5078  Having investigated closely, the pope determined that the blood was not coming from the Virgin Mary's ass, but rather, from her vagina. And the pope said quote, \"A chick bleeding out her vagina is no miracle. Chicks bleed out their vagina's all the time.\"  Back to you, Tom.\\n  \n",
       "5082                                                                                                                                                                                                      You heard what he said!  The higher power didn't cure me! I'm powerless again!\\n  \n",
       "5091                                                                                                                                                 Yeah. The statue wasn't a miracle, Dad. So that means you did it. That means you didn't have a drink for five days all on your own.\\n  \n",
       "5097                                                                                                                                                  Naw. All or nothing is easy. But learning to drink a little bit, responsibly, that'sa disciprine. Disciprine... come from within. \\n  \n",
       "5098                                                                                                                                                                                                                                         How did I manage to raise such a smart kid?\\n  \n",
       "\n",
       "[988 rows x 2 columns]"
      ]
     },
     "execution_count": 399,
     "metadata": {},
     "output_type": "execute_result"
    }
   ],
   "source": [
    "#actual tweets categorized as hate speech\n",
    "final_test.iloc[ftest[ftest['pred_sentiment']==0].index]"
   ]
  },
  {
   "cell_type": "code",
   "execution_count": null,
   "metadata": {},
   "outputs": [],
   "source": []
  }
 ],
 "metadata": {
  "kernelspec": {
   "display_name": "Python 3",
   "language": "python",
   "name": "python3"
  },
  "language_info": {
   "codemirror_mode": {
    "name": "ipython",
    "version": 3
   },
   "file_extension": ".py",
   "mimetype": "text/x-python",
   "name": "python",
   "nbconvert_exporter": "python",
   "pygments_lexer": "ipython3",
   "version": "3.8.0"
  }
 },
 "nbformat": 4,
 "nbformat_minor": 4
}
